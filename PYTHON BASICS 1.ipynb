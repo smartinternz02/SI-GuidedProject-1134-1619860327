{
 "cells": [
  {
   "cell_type": "code",
   "execution_count": 1,
   "id": "b5b0d717",
   "metadata": {},
   "outputs": [
    {
     "data": {
      "text/plain": [
       "'E:\\\\Geethanjaliexternship'"
      ]
     },
     "execution_count": 1,
     "metadata": {},
     "output_type": "execute_result"
    }
   ],
   "source": [
    "pwd"
   ]
  },
  {
   "cell_type": "markdown",
   "id": "79d383b2",
   "metadata": {},
   "source": [
    "# variables"
   ]
  },
  {
   "cell_type": "code",
   "execution_count": 1,
   "id": "5977a68b",
   "metadata": {},
   "outputs": [],
   "source": [
    "a = 10\n",
    "a,b,c = 10,20,30"
   ]
  },
  {
   "cell_type": "code",
   "execution_count": 2,
   "id": "adb1bd1b",
   "metadata": {},
   "outputs": [
    {
     "name": "stdout",
     "output_type": "stream",
     "text": [
      "10\n",
      "20\n",
      "30\n"
     ]
    }
   ],
   "source": [
    "print(a)\n",
    "print(b)\n",
    "print(c)"
   ]
  },
  {
   "cell_type": "code",
   "execution_count": 3,
   "id": "01b51a1f",
   "metadata": {},
   "outputs": [],
   "source": [
    "my_name = \"archanaroy\""
   ]
  },
  {
   "cell_type": "code",
   "execution_count": 4,
   "id": "6414466b",
   "metadata": {},
   "outputs": [
    {
     "name": "stdout",
     "output_type": "stream",
     "text": [
      "['False', 'None', 'True', 'and', 'as', 'assert', 'async', 'await', 'break', 'class', 'continue', 'def', 'del', 'elif', 'else', 'except', 'finally', 'for', 'from', 'global', 'if', 'import', 'in', 'is', 'lambda', 'nonlocal', 'not', 'or', 'pass', 'raise', 'return', 'try', 'while', 'with', 'yield']\n"
     ]
    }
   ],
   "source": [
    "import keyword\n",
    "print(keyword.kwlist)"
   ]
  },
  {
   "cell_type": "code",
   "execution_count": 5,
   "id": "b07de2b7",
   "metadata": {},
   "outputs": [],
   "source": [
    "helloyfsrgyjhbstrdyfyughjbvghcf = 10"
   ]
  },
  {
   "cell_type": "code",
   "execution_count": 23,
   "id": "fb311ea4",
   "metadata": {},
   "outputs": [
    {
     "name": "stdout",
     "output_type": "stream",
     "text": [
      "10 20.5 hello\n"
     ]
    }
   ],
   "source": [
    "print(a,b,c)"
   ]
  },
  {
   "cell_type": "code",
   "execution_count": 24,
   "id": "76d07195",
   "metadata": {},
   "outputs": [
    {
     "name": "stdout",
     "output_type": "stream",
     "text": [
      "a: 10 b: 20.5 c:  hello\n"
     ]
    }
   ],
   "source": [
    "print(\"a:\",a, \"b:\",b ,\"c: \",c)"
   ]
  },
  {
   "cell_type": "markdown",
   "id": "e6b32841",
   "metadata": {},
   "source": [
    "# Data Types"
   ]
  },
  {
   "cell_type": "code",
   "execution_count": 25,
   "id": "fe9e29fa",
   "metadata": {},
   "outputs": [],
   "source": [
    "a = 10\n",
    "b = 20.5\n",
    "c = \"hello\""
   ]
  },
  {
   "cell_type": "code",
   "execution_count": 9,
   "id": "4819cecb",
   "metadata": {},
   "outputs": [
    {
     "data": {
      "text/plain": [
       "int"
      ]
     },
     "execution_count": 9,
     "metadata": {},
     "output_type": "execute_result"
    }
   ],
   "source": [
    "type(a)"
   ]
  },
  {
   "cell_type": "code",
   "execution_count": 26,
   "id": "a5e0cb0a",
   "metadata": {},
   "outputs": [
    {
     "data": {
      "text/plain": [
       "float"
      ]
     },
     "execution_count": 26,
     "metadata": {},
     "output_type": "execute_result"
    }
   ],
   "source": [
    "type(b)"
   ]
  },
  {
   "cell_type": "code",
   "execution_count": 11,
   "id": "03cf0d03",
   "metadata": {},
   "outputs": [
    {
     "data": {
      "text/plain": [
       "str"
      ]
     },
     "execution_count": 11,
     "metadata": {},
     "output_type": "execute_result"
    }
   ],
   "source": [
    "type(c)"
   ]
  },
  {
   "cell_type": "code",
   "execution_count": 27,
   "id": "dd67e5ca",
   "metadata": {},
   "outputs": [],
   "source": [
    "d = float(a)"
   ]
  },
  {
   "cell_type": "code",
   "execution_count": 13,
   "id": "3a023d14",
   "metadata": {},
   "outputs": [
    {
     "data": {
      "text/plain": [
       "float"
      ]
     },
     "execution_count": 13,
     "metadata": {},
     "output_type": "execute_result"
    }
   ],
   "source": [
    "type(d)"
   ]
  },
  {
   "cell_type": "code",
   "execution_count": 14,
   "id": "4ac21aa9",
   "metadata": {},
   "outputs": [],
   "source": [
    "e = str(a)"
   ]
  },
  {
   "cell_type": "code",
   "execution_count": 15,
   "id": "11b7a987",
   "metadata": {},
   "outputs": [
    {
     "data": {
      "text/plain": [
       "str"
      ]
     },
     "execution_count": 15,
     "metadata": {},
     "output_type": "execute_result"
    }
   ],
   "source": [
    "type(e)"
   ]
  },
  {
   "cell_type": "code",
   "execution_count": 28,
   "id": "cc9d3b65",
   "metadata": {},
   "outputs": [],
   "source": [
    "string = '12345'"
   ]
  },
  {
   "cell_type": "code",
   "execution_count": 29,
   "id": "9b7d56ac",
   "metadata": {},
   "outputs": [],
   "source": [
    "integer = int(string)"
   ]
  },
  {
   "cell_type": "code",
   "execution_count": 30,
   "id": "cb152d83",
   "metadata": {},
   "outputs": [],
   "source": [
    "x = False"
   ]
  },
  {
   "cell_type": "code",
   "execution_count": 31,
   "id": "e3cbe503",
   "metadata": {},
   "outputs": [
    {
     "data": {
      "text/plain": [
       "bool"
      ]
     },
     "execution_count": 31,
     "metadata": {},
     "output_type": "execute_result"
    }
   ],
   "source": [
    "type(x)"
   ]
  },
  {
   "cell_type": "code",
   "execution_count": 20,
   "id": "bd375d04",
   "metadata": {},
   "outputs": [],
   "source": [
    "string = \"hiee how are you 12345\""
   ]
  },
  {
   "cell_type": "markdown",
   "id": "c4b38c42",
   "metadata": {},
   "source": [
    "indexing - giving the index position to the elements present in the data type"
   ]
  },
  {
   "cell_type": "code",
   "execution_count": 21,
   "id": "3692e54e",
   "metadata": {},
   "outputs": [
    {
     "data": {
      "text/plain": [
       "'y'"
      ]
     },
     "execution_count": 21,
     "metadata": {},
     "output_type": "execute_result"
    }
   ],
   "source": [
    "string[-9]"
   ]
  },
  {
   "cell_type": "code",
   "execution_count": 22,
   "id": "5e1039ab",
   "metadata": {},
   "outputs": [
    {
     "ename": "TypeError",
     "evalue": "'str' object does not support item assignment",
     "output_type": "error",
     "traceback": [
      "\u001b[1;31m---------------------------------------------------------------------------\u001b[0m",
      "\u001b[1;31mTypeError\u001b[0m                                 Traceback (most recent call last)",
      "\u001b[1;32m<ipython-input-22-67168ee6dda8>\u001b[0m in \u001b[0;36m<module>\u001b[1;34m\u001b[0m\n\u001b[1;32m----> 1\u001b[1;33m \u001b[0mstring\u001b[0m\u001b[1;33m[\u001b[0m\u001b[1;36m9\u001b[0m\u001b[1;33m]\u001b[0m \u001b[1;33m=\u001b[0m \u001b[1;34m\"q\"\u001b[0m\u001b[1;33m\u001b[0m\u001b[1;33m\u001b[0m\u001b[0m\n\u001b[0m",
      "\u001b[1;31mTypeError\u001b[0m: 'str' object does not support item assignment"
     ]
    }
   ],
   "source": [
    "string[9] = \"q\""
   ]
  },
  {
   "cell_type": "code",
   "execution_count": 33,
   "id": "9421f68f",
   "metadata": {},
   "outputs": [
    {
     "data": {
      "text/plain": [
       "'are you 12345'"
      ]
     },
     "execution_count": 33,
     "metadata": {},
     "output_type": "execute_result"
    }
   ],
   "source": [
    "string[9:] #strt"
   ]
  },
  {
   "cell_type": "code",
   "execution_count": 38,
   "id": "b5e20565",
   "metadata": {},
   "outputs": [
    {
     "data": {
      "text/plain": [
       "'hiee ho'"
      ]
     },
     "execution_count": 38,
     "metadata": {},
     "output_type": "execute_result"
    }
   ],
   "source": [
    "string[:7] #end"
   ]
  },
  {
   "cell_type": "code",
   "execution_count": 39,
   "id": "61aef2e2",
   "metadata": {},
   "outputs": [
    {
     "data": {
      "text/plain": [
       "'how are'"
      ]
     },
     "execution_count": 39,
     "metadata": {},
     "output_type": "execute_result"
    }
   ],
   "source": [
    "string[5:12] #start end"
   ]
  },
  {
   "cell_type": "code",
   "execution_count": 40,
   "id": "37c1c107",
   "metadata": {},
   "outputs": [
    {
     "data": {
      "text/plain": [
       "['__add__',\n",
       " '__class__',\n",
       " '__contains__',\n",
       " '__delattr__',\n",
       " '__dir__',\n",
       " '__doc__',\n",
       " '__eq__',\n",
       " '__format__',\n",
       " '__ge__',\n",
       " '__getattribute__',\n",
       " '__getitem__',\n",
       " '__getnewargs__',\n",
       " '__gt__',\n",
       " '__hash__',\n",
       " '__init__',\n",
       " '__init_subclass__',\n",
       " '__iter__',\n",
       " '__le__',\n",
       " '__len__',\n",
       " '__lt__',\n",
       " '__mod__',\n",
       " '__mul__',\n",
       " '__ne__',\n",
       " '__new__',\n",
       " '__reduce__',\n",
       " '__reduce_ex__',\n",
       " '__repr__',\n",
       " '__rmod__',\n",
       " '__rmul__',\n",
       " '__setattr__',\n",
       " '__sizeof__',\n",
       " '__str__',\n",
       " '__subclasshook__',\n",
       " 'capitalize',\n",
       " 'casefold',\n",
       " 'center',\n",
       " 'count',\n",
       " 'encode',\n",
       " 'endswith',\n",
       " 'expandtabs',\n",
       " 'find',\n",
       " 'format',\n",
       " 'format_map',\n",
       " 'index',\n",
       " 'isalnum',\n",
       " 'isalpha',\n",
       " 'isascii',\n",
       " 'isdecimal',\n",
       " 'isdigit',\n",
       " 'isidentifier',\n",
       " 'islower',\n",
       " 'isnumeric',\n",
       " 'isprintable',\n",
       " 'isspace',\n",
       " 'istitle',\n",
       " 'isupper',\n",
       " 'join',\n",
       " 'ljust',\n",
       " 'lower',\n",
       " 'lstrip',\n",
       " 'maketrans',\n",
       " 'partition',\n",
       " 'replace',\n",
       " 'rfind',\n",
       " 'rindex',\n",
       " 'rjust',\n",
       " 'rpartition',\n",
       " 'rsplit',\n",
       " 'rstrip',\n",
       " 'split',\n",
       " 'splitlines',\n",
       " 'startswith',\n",
       " 'strip',\n",
       " 'swapcase',\n",
       " 'title',\n",
       " 'translate',\n",
       " 'upper',\n",
       " 'zfill']"
      ]
     },
     "execution_count": 40,
     "metadata": {},
     "output_type": "execute_result"
    }
   ],
   "source": [
    "dir(string)"
   ]
  },
  {
   "cell_type": "code",
   "execution_count": 41,
   "id": "7b5010b0",
   "metadata": {},
   "outputs": [
    {
     "data": {
      "text/plain": [
       "'hiee how are you 12345'"
      ]
     },
     "execution_count": 41,
     "metadata": {},
     "output_type": "execute_result"
    }
   ],
   "source": [
    "string"
   ]
  },
  {
   "cell_type": "code",
   "execution_count": 43,
   "id": "1dc8ebd5",
   "metadata": {},
   "outputs": [
    {
     "data": {
      "text/plain": [
       "'Hiee how are you 12345'"
      ]
     },
     "execution_count": 43,
     "metadata": {},
     "output_type": "execute_result"
    }
   ],
   "source": [
    "string.capitalize()"
   ]
  },
  {
   "cell_type": "code",
   "execution_count": 44,
   "id": "9918768c",
   "metadata": {},
   "outputs": [
    {
     "data": {
      "text/plain": [
       "'hiee how are you 12345'"
      ]
     },
     "execution_count": 44,
     "metadata": {},
     "output_type": "execute_result"
    }
   ],
   "source": [
    "string.casefold()"
   ]
  },
  {
   "cell_type": "code",
   "execution_count": 45,
   "id": "8ef711a2",
   "metadata": {},
   "outputs": [],
   "source": [
    "st = \"ABCDEFGHI\""
   ]
  },
  {
   "cell_type": "code",
   "execution_count": 46,
   "id": "dc0c8d0d",
   "metadata": {},
   "outputs": [
    {
     "data": {
      "text/plain": [
       "'abcdefghi'"
      ]
     },
     "execution_count": 46,
     "metadata": {},
     "output_type": "execute_result"
    }
   ],
   "source": [
    "st.casefold()"
   ]
  },
  {
   "cell_type": "code",
   "execution_count": 48,
   "id": "f315ae29",
   "metadata": {},
   "outputs": [
    {
     "data": {
      "text/plain": [
       "'^^^^^^^^^^^^^^^^^^^^^^^^hiee how are you 12345^^^^^^^^^^^^^^^^^^^^^^^^'"
      ]
     },
     "execution_count": 48,
     "metadata": {},
     "output_type": "execute_result"
    }
   ],
   "source": [
    "string.center(70,\"^\")"
   ]
  },
  {
   "cell_type": "code",
   "execution_count": 50,
   "id": "f70359ac",
   "metadata": {},
   "outputs": [
    {
     "data": {
      "text/plain": [
       "3"
      ]
     },
     "execution_count": 50,
     "metadata": {},
     "output_type": "execute_result"
    }
   ],
   "source": [
    "string.count('e')"
   ]
  },
  {
   "cell_type": "code",
   "execution_count": 52,
   "id": "04883b59",
   "metadata": {},
   "outputs": [
    {
     "data": {
      "text/plain": [
       "'hiee how are you 12345'"
      ]
     },
     "execution_count": 52,
     "metadata": {},
     "output_type": "execute_result"
    }
   ],
   "source": [
    "string"
   ]
  },
  {
   "cell_type": "code",
   "execution_count": 51,
   "id": "b98fa942",
   "metadata": {},
   "outputs": [
    {
     "data": {
      "text/plain": [
       "['hiee', 'how', 'are', 'you', '12345']"
      ]
     },
     "execution_count": 51,
     "metadata": {},
     "output_type": "execute_result"
    }
   ],
   "source": [
    "string.split()"
   ]
  },
  {
   "cell_type": "code",
   "execution_count": 53,
   "id": "c2280385",
   "metadata": {},
   "outputs": [],
   "source": [
    "list = [1,30.5,\"john\",\"hello\",12345]"
   ]
  },
  {
   "cell_type": "code",
   "execution_count": 54,
   "id": "82910ff2",
   "metadata": {},
   "outputs": [],
   "source": [
    "#list =[0,1,2,3,4]"
   ]
  },
  {
   "cell_type": "code",
   "execution_count": 55,
   "id": "12bb1f9c",
   "metadata": {},
   "outputs": [
    {
     "data": {
      "text/plain": [
       "12345"
      ]
     },
     "execution_count": 55,
     "metadata": {},
     "output_type": "execute_result"
    }
   ],
   "source": [
    "list[4]"
   ]
  },
  {
   "cell_type": "code",
   "execution_count": 56,
   "id": "590858d1",
   "metadata": {},
   "outputs": [
    {
     "data": {
      "text/plain": [
       "['john', 'hello']"
      ]
     },
     "execution_count": 56,
     "metadata": {},
     "output_type": "execute_result"
    }
   ],
   "source": [
    "list[2:4]"
   ]
  },
  {
   "cell_type": "code",
   "execution_count": 57,
   "id": "efe6f71d",
   "metadata": {},
   "outputs": [
    {
     "data": {
      "text/plain": [
       "[30.5, 'john', 'hello', 12345]"
      ]
     },
     "execution_count": 57,
     "metadata": {},
     "output_type": "execute_result"
    }
   ],
   "source": [
    "list[1:]"
   ]
  },
  {
   "cell_type": "code",
   "execution_count": 58,
   "id": "a34122a9",
   "metadata": {},
   "outputs": [],
   "source": [
    "list[3] = \"archanaroy\""
   ]
  },
  {
   "cell_type": "code",
   "execution_count": 59,
   "id": "14a6ed61",
   "metadata": {},
   "outputs": [
    {
     "data": {
      "text/plain": [
       "[1, 30.5, 'john', 'archanaroy', 12345]"
      ]
     },
     "execution_count": 59,
     "metadata": {},
     "output_type": "execute_result"
    }
   ],
   "source": [
    "list"
   ]
  },
  {
   "cell_type": "code",
   "execution_count": 60,
   "id": "8fa5101e",
   "metadata": {},
   "outputs": [
    {
     "data": {
      "text/plain": [
       "['__add__',\n",
       " '__class__',\n",
       " '__contains__',\n",
       " '__delattr__',\n",
       " '__delitem__',\n",
       " '__dir__',\n",
       " '__doc__',\n",
       " '__eq__',\n",
       " '__format__',\n",
       " '__ge__',\n",
       " '__getattribute__',\n",
       " '__getitem__',\n",
       " '__gt__',\n",
       " '__hash__',\n",
       " '__iadd__',\n",
       " '__imul__',\n",
       " '__init__',\n",
       " '__init_subclass__',\n",
       " '__iter__',\n",
       " '__le__',\n",
       " '__len__',\n",
       " '__lt__',\n",
       " '__mul__',\n",
       " '__ne__',\n",
       " '__new__',\n",
       " '__reduce__',\n",
       " '__reduce_ex__',\n",
       " '__repr__',\n",
       " '__reversed__',\n",
       " '__rmul__',\n",
       " '__setattr__',\n",
       " '__setitem__',\n",
       " '__sizeof__',\n",
       " '__str__',\n",
       " '__subclasshook__',\n",
       " 'append',\n",
       " 'clear',\n",
       " 'copy',\n",
       " 'count',\n",
       " 'extend',\n",
       " 'index',\n",
       " 'insert',\n",
       " 'pop',\n",
       " 'remove',\n",
       " 'reverse',\n",
       " 'sort']"
      ]
     },
     "execution_count": 60,
     "metadata": {},
     "output_type": "execute_result"
    }
   ],
   "source": [
    "dir(list)"
   ]
  },
  {
   "cell_type": "code",
   "execution_count": 61,
   "id": "89761cc0",
   "metadata": {},
   "outputs": [
    {
     "data": {
      "text/plain": [
       "[1, 30.5, 'john', 'archanaroy', 12345]"
      ]
     },
     "execution_count": 61,
     "metadata": {},
     "output_type": "execute_result"
    }
   ],
   "source": [
    "list"
   ]
  },
  {
   "cell_type": "code",
   "execution_count": 62,
   "id": "106048e6",
   "metadata": {},
   "outputs": [],
   "source": [
    "list.append(\"archanaroy\")"
   ]
  },
  {
   "cell_type": "code",
   "execution_count": 63,
   "id": "6aa4ace4",
   "metadata": {},
   "outputs": [
    {
     "data": {
      "text/plain": [
       "[1, 30.5, 'john', 'archanaroy', 12345, 'archanaroy']"
      ]
     },
     "execution_count": 63,
     "metadata": {},
     "output_type": "execute_result"
    }
   ],
   "source": [
    "list"
   ]
  },
  {
   "cell_type": "code",
   "execution_count": 64,
   "id": "90670da3",
   "metadata": {},
   "outputs": [],
   "source": [
    "list.append([1,2,3,4,5])"
   ]
  },
  {
   "cell_type": "code",
   "execution_count": 65,
   "id": "dce6235d",
   "metadata": {},
   "outputs": [
    {
     "data": {
      "text/plain": [
       "[1, 30.5, 'john', 'archanaroy', 12345, 'archanaroy', [1, 2, 3, 4, 5]]"
      ]
     },
     "execution_count": 65,
     "metadata": {},
     "output_type": "execute_result"
    }
   ],
   "source": [
    "list"
   ]
  },
  {
   "cell_type": "code",
   "execution_count": 66,
   "id": "56f9795f",
   "metadata": {},
   "outputs": [],
   "source": [
    "list.clear()"
   ]
  },
  {
   "cell_type": "code",
   "execution_count": 67,
   "id": "ab9cb354",
   "metadata": {},
   "outputs": [
    {
     "data": {
      "text/plain": [
       "[]"
      ]
     },
     "execution_count": 67,
     "metadata": {},
     "output_type": "execute_result"
    }
   ],
   "source": [
    "list"
   ]
  },
  {
   "cell_type": "code",
   "execution_count": 94,
   "id": "c1c64538",
   "metadata": {},
   "outputs": [],
   "source": [
    "list = [1,30.5, 'john', 'archanaroy', 12345, 'archanaroy', [1,2,3,4,5]]"
   ]
  },
  {
   "cell_type": "code",
   "execution_count": 95,
   "id": "09be83c1",
   "metadata": {},
   "outputs": [
    {
     "data": {
      "text/plain": [
       "[1, 30.5, 'john', 'archanaroy', 12345, 'archanaroy', [1, 2, 3, 4, 5]]"
      ]
     },
     "execution_count": 95,
     "metadata": {},
     "output_type": "execute_result"
    }
   ],
   "source": [
    "list"
   ]
  },
  {
   "cell_type": "code",
   "execution_count": 96,
   "id": "0ed2b509",
   "metadata": {},
   "outputs": [],
   "source": [
    "list2 = list.copy()"
   ]
  },
  {
   "cell_type": "code",
   "execution_count": 97,
   "id": "f8822bc9",
   "metadata": {},
   "outputs": [
    {
     "data": {
      "text/plain": [
       "[1, 30.5, 'john', 'archanaroy', 12345, 'archanaroy', [1, 2, 3, 4, 5]]"
      ]
     },
     "execution_count": 97,
     "metadata": {},
     "output_type": "execute_result"
    }
   ],
   "source": [
    "list2"
   ]
  },
  {
   "cell_type": "code",
   "execution_count": 98,
   "id": "62d88faf",
   "metadata": {},
   "outputs": [
    {
     "data": {
      "text/plain": [
       "[1, 30.5, 'john', 'archanaroy', 12345, 'archanaroy', [1, 2, 3, 4, 5]]"
      ]
     },
     "execution_count": 98,
     "metadata": {},
     "output_type": "execute_result"
    }
   ],
   "source": [
    "list"
   ]
  },
  {
   "cell_type": "code",
   "execution_count": 99,
   "id": "ef04464f",
   "metadata": {},
   "outputs": [],
   "source": [
    "list.extend([1,2,3,4,5])"
   ]
  },
  {
   "cell_type": "code",
   "execution_count": 100,
   "id": "8cf63f13",
   "metadata": {},
   "outputs": [
    {
     "data": {
      "text/plain": [
       "[1,\n",
       " 30.5,\n",
       " 'john',\n",
       " 'archanaroy',\n",
       " 12345,\n",
       " 'archanaroy',\n",
       " [1, 2, 3, 4, 5],\n",
       " 1,\n",
       " 2,\n",
       " 3,\n",
       " 4,\n",
       " 5]"
      ]
     },
     "execution_count": 100,
     "metadata": {},
     "output_type": "execute_result"
    }
   ],
   "source": [
    "list"
   ]
  },
  {
   "cell_type": "code",
   "execution_count": 101,
   "id": "b1b91bf6",
   "metadata": {},
   "outputs": [
    {
     "name": "stdout",
     "output_type": "stream",
     "text": [
      "[1, 30.5, 'john', 'archanaroy', 12345, 'archanaroy', [1, 2, 3, 4, 5], 1, 2, 3, 4, 5]\n"
     ]
    }
   ],
   "source": [
    "print(list)"
   ]
  },
  {
   "cell_type": "code",
   "execution_count": 102,
   "id": "06ee9a03",
   "metadata": {},
   "outputs": [
    {
     "data": {
      "text/plain": [
       "2"
      ]
     },
     "execution_count": 102,
     "metadata": {},
     "output_type": "execute_result"
    }
   ],
   "source": [
    "list.count(1)"
   ]
  },
  {
   "cell_type": "code",
   "execution_count": 103,
   "id": "ec7bc686",
   "metadata": {},
   "outputs": [
    {
     "data": {
      "text/plain": [
       "11"
      ]
     },
     "execution_count": 103,
     "metadata": {},
     "output_type": "execute_result"
    }
   ],
   "source": [
    "list.index(5)"
   ]
  },
  {
   "cell_type": "code",
   "execution_count": 104,
   "id": "7dc55b0d",
   "metadata": {},
   "outputs": [],
   "source": [
    "list.insert(5,\"smartbridge\")"
   ]
  },
  {
   "cell_type": "code",
   "execution_count": 105,
   "id": "f192e16c",
   "metadata": {},
   "outputs": [
    {
     "name": "stdout",
     "output_type": "stream",
     "text": [
      "[1, 30.5, 'john', 'archanaroy', 12345, 'smartbridge', 'archanaroy', [1, 2, 3, 4, 5], 1, 2, 3, 4, 5]\n"
     ]
    }
   ],
   "source": [
    "print(list)"
   ]
  },
  {
   "cell_type": "code",
   "execution_count": 108,
   "id": "6a8fe8a3",
   "metadata": {},
   "outputs": [
    {
     "data": {
      "text/plain": [
       "3"
      ]
     },
     "execution_count": 108,
     "metadata": {},
     "output_type": "execute_result"
    }
   ],
   "source": [
    "list.pop()"
   ]
  },
  {
   "cell_type": "code",
   "execution_count": 110,
   "id": "628e9871",
   "metadata": {},
   "outputs": [],
   "source": [
    "list.remove(\"archanaroy\")"
   ]
  },
  {
   "cell_type": "code",
   "execution_count": 111,
   "id": "c59ee947",
   "metadata": {},
   "outputs": [
    {
     "name": "stdout",
     "output_type": "stream",
     "text": [
      "[1, 30.5, 'john', 12345, 'smartbridge', 'archanaroy', [1, 2, 3, 4, 5], 1, 2]\n"
     ]
    }
   ],
   "source": [
    "print(list)"
   ]
  },
  {
   "cell_type": "markdown",
   "id": "b64199c8",
   "metadata": {},
   "source": [
    "creating a list with looping and conditions"
   ]
  },
  {
   "cell_type": "code",
   "execution_count": 115,
   "id": "de63746d",
   "metadata": {},
   "outputs": [],
   "source": [
    "list1 = [i for i in range(10) if(i%2==0)]"
   ]
  },
  {
   "cell_type": "code",
   "execution_count": 116,
   "id": "15672dd0",
   "metadata": {},
   "outputs": [
    {
     "data": {
      "text/plain": [
       "[0, 2, 4, 6, 8]"
      ]
     },
     "execution_count": 116,
     "metadata": {},
     "output_type": "execute_result"
    }
   ],
   "source": [
    "list1"
   ]
  },
  {
   "cell_type": "code",
   "execution_count": 117,
   "id": "f044f3c8",
   "metadata": {},
   "outputs": [
    {
     "name": "stdout",
     "output_type": "stream",
     "text": [
      "[1, 30.5, 'john', 12345, 'smartbridge', 'archanaroy', [1, 2, 3, 4, 5], 1, 2]\n"
     ]
    }
   ],
   "source": [
    "print(list)"
   ]
  },
  {
   "cell_type": "code",
   "execution_count": 37,
   "id": "a0ea6384",
   "metadata": {},
   "outputs": [],
   "source": [
    "list.clear()"
   ]
  },
  {
   "cell_type": "code",
   "execution_count": 38,
   "id": "7d79544d",
   "metadata": {},
   "outputs": [
    {
     "name": "stdout",
     "output_type": "stream",
     "text": [
      "[]\n"
     ]
    }
   ],
   "source": [
    "print(list)"
   ]
  },
  {
   "cell_type": "code",
   "execution_count": 39,
   "id": "defaad0c",
   "metadata": {},
   "outputs": [],
   "source": [
    "list = [1,2,3,4,5,6]"
   ]
  },
  {
   "cell_type": "code",
   "execution_count": 40,
   "id": "b0cba828",
   "metadata": {},
   "outputs": [
    {
     "data": {
      "text/plain": [
       "[1, 2, 3, 4, 5, 6]"
      ]
     },
     "execution_count": 40,
     "metadata": {},
     "output_type": "execute_result"
    }
   ],
   "source": [
    "list"
   ]
  },
  {
   "cell_type": "code",
   "execution_count": 41,
   "id": "e36ed20f",
   "metadata": {},
   "outputs": [],
   "source": [
    "list.extend([5,6,7,8,9])"
   ]
  },
  {
   "cell_type": "code",
   "execution_count": 42,
   "id": "269ea373",
   "metadata": {},
   "outputs": [
    {
     "data": {
      "text/plain": [
       "[1, 2, 3, 4, 5, 6, 5, 6, 7, 8, 9]"
      ]
     },
     "execution_count": 42,
     "metadata": {},
     "output_type": "execute_result"
    }
   ],
   "source": [
    "list"
   ]
  },
  {
   "cell_type": "code",
   "execution_count": 43,
   "id": "2a6ef064",
   "metadata": {},
   "outputs": [],
   "source": [
    "list.append([5,6,7,8,9])"
   ]
  },
  {
   "cell_type": "code",
   "execution_count": 44,
   "id": "8bdd1af4",
   "metadata": {},
   "outputs": [
    {
     "data": {
      "text/plain": [
       "[1, 2, 3, 4, 5, 6, 5, 6, 7, 8, 9, [5, 6, 7, 8, 9]]"
      ]
     },
     "execution_count": 44,
     "metadata": {},
     "output_type": "execute_result"
    }
   ],
   "source": [
    "list"
   ]
  },
  {
   "cell_type": "code",
   "execution_count": 49,
   "id": "27fab5cb",
   "metadata": {},
   "outputs": [],
   "source": [
    "tuple = (1,2,\"john\",\"smartbridge\")"
   ]
  },
  {
   "cell_type": "code",
   "execution_count": 50,
   "id": "e2d2bd0d",
   "metadata": {},
   "outputs": [
    {
     "data": {
      "text/plain": [
       "'smartbridge'"
      ]
     },
     "execution_count": 50,
     "metadata": {},
     "output_type": "execute_result"
    }
   ],
   "source": [
    "tuple[3]"
   ]
  },
  {
   "cell_type": "code",
   "execution_count": 51,
   "id": "361ef586",
   "metadata": {},
   "outputs": [
    {
     "data": {
      "text/plain": [
       "(2, 'john')"
      ]
     },
     "execution_count": 51,
     "metadata": {},
     "output_type": "execute_result"
    }
   ],
   "source": [
    "tuple[1:3]"
   ]
  },
  {
   "cell_type": "code",
   "execution_count": 52,
   "id": "b28fe3f7",
   "metadata": {},
   "outputs": [
    {
     "ename": "TypeError",
     "evalue": "'tuple' object does not support item assignment",
     "output_type": "error",
     "traceback": [
      "\u001b[1;31m---------------------------------------------------------------------------\u001b[0m",
      "\u001b[1;31mTypeError\u001b[0m                                 Traceback (most recent call last)",
      "\u001b[1;32m<ipython-input-52-664e4dfb74a0>\u001b[0m in \u001b[0;36m<module>\u001b[1;34m\u001b[0m\n\u001b[1;32m----> 1\u001b[1;33m \u001b[0mtuple\u001b[0m\u001b[1;33m[\u001b[0m\u001b[1;36m0\u001b[0m\u001b[1;33m]\u001b[0m \u001b[1;33m=\u001b[0m \u001b[1;34m\"archanaroy\"\u001b[0m\u001b[1;33m\u001b[0m\u001b[1;33m\u001b[0m\u001b[0m\n\u001b[0m",
      "\u001b[1;31mTypeError\u001b[0m: 'tuple' object does not support item assignment"
     ]
    }
   ],
   "source": [
    "tuple[0] = \"archanaroy\""
   ]
  },
  {
   "cell_type": "code",
   "execution_count": 54,
   "id": "e086c851",
   "metadata": {},
   "outputs": [
    {
     "data": {
      "text/plain": [
       "['__add__',\n",
       " '__class__',\n",
       " '__contains__',\n",
       " '__delattr__',\n",
       " '__dir__',\n",
       " '__doc__',\n",
       " '__eq__',\n",
       " '__format__',\n",
       " '__ge__',\n",
       " '__getattribute__',\n",
       " '__getitem__',\n",
       " '__getnewargs__',\n",
       " '__gt__',\n",
       " '__hash__',\n",
       " '__init__',\n",
       " '__init_subclass__',\n",
       " '__iter__',\n",
       " '__le__',\n",
       " '__len__',\n",
       " '__lt__',\n",
       " '__mul__',\n",
       " '__ne__',\n",
       " '__new__',\n",
       " '__reduce__',\n",
       " '__reduce_ex__',\n",
       " '__repr__',\n",
       " '__rmul__',\n",
       " '__setattr__',\n",
       " '__sizeof__',\n",
       " '__str__',\n",
       " '__subclasshook__',\n",
       " 'count',\n",
       " 'index']"
      ]
     },
     "execution_count": 54,
     "metadata": {},
     "output_type": "execute_result"
    }
   ],
   "source": [
    "dir(tuple)"
   ]
  },
  {
   "cell_type": "code",
   "execution_count": 56,
   "id": "b35629e3",
   "metadata": {},
   "outputs": [
    {
     "data": {
      "text/plain": [
       "0"
      ]
     },
     "execution_count": 56,
     "metadata": {},
     "output_type": "execute_result"
    }
   ],
   "source": [
    "tuple.count(3)"
   ]
  },
  {
   "cell_type": "code",
   "execution_count": 57,
   "id": "6e9cc7be",
   "metadata": {},
   "outputs": [
    {
     "data": {
      "text/plain": [
       "3"
      ]
     },
     "execution_count": 57,
     "metadata": {},
     "output_type": "execute_result"
    }
   ],
   "source": [
    "tuple.index(\"smartbridge\")"
   ]
  },
  {
   "cell_type": "markdown",
   "id": "ae9c74cf",
   "metadata": {},
   "source": [
    "Task\n",
    "\n",
    "create list with the details of student like name, student rollno , studentmarks ,\n",
    "append the list with student attendance\n",
    "delete the student roll number from the list\n",
    "copy student details in other list"
   ]
  },
  {
   "cell_type": "code",
   "execution_count": 58,
   "id": "6ba853af",
   "metadata": {},
   "outputs": [],
   "source": [
    "#dict = {\"key\":\"value\",\"key\":\"value\",\"key\":\"alue\"}\n",
    "d = {\"name\":\"archanaroy\",\"age\":18,\"qualification\":\"mtech\"}"
   ]
  },
  {
   "cell_type": "code",
   "execution_count": 59,
   "id": "71f93385",
   "metadata": {},
   "outputs": [
    {
     "data": {
      "text/plain": [
       "'mtech'"
      ]
     },
     "execution_count": 59,
     "metadata": {},
     "output_type": "execute_result"
    }
   ],
   "source": [
    "d[\"qualification\"]"
   ]
  },
  {
   "cell_type": "code",
   "execution_count": 60,
   "id": "4835ea7e",
   "metadata": {},
   "outputs": [
    {
     "data": {
      "text/plain": [
       "'archanaroy'"
      ]
     },
     "execution_count": 60,
     "metadata": {},
     "output_type": "execute_result"
    }
   ],
   "source": [
    "d[\"name\"]"
   ]
  },
  {
   "cell_type": "code",
   "execution_count": 61,
   "id": "70acf7a6",
   "metadata": {},
   "outputs": [
    {
     "data": {
      "text/plain": [
       "18"
      ]
     },
     "execution_count": 61,
     "metadata": {},
     "output_type": "execute_result"
    }
   ],
   "source": [
    "d[\"age\"]"
   ]
  },
  {
   "cell_type": "code",
   "execution_count": 62,
   "id": "1964e4ce",
   "metadata": {},
   "outputs": [],
   "source": [
    "d = {\"name\":\"archanaroy\",\"age\":18,\"qualification\":\"smartbridge\",\"name\":\"smartbridge\"}"
   ]
  },
  {
   "cell_type": "code",
   "execution_count": 63,
   "id": "a6ff842c",
   "metadata": {},
   "outputs": [
    {
     "data": {
      "text/plain": [
       "{'name': 'smartbridge', 'age': 18, 'qualification': 'smartbridge'}"
      ]
     },
     "execution_count": 63,
     "metadata": {},
     "output_type": "execute_result"
    }
   ],
   "source": [
    "d"
   ]
  },
  {
   "cell_type": "code",
   "execution_count": 64,
   "id": "21a8f359",
   "metadata": {},
   "outputs": [
    {
     "data": {
      "text/plain": [
       "['__class__',\n",
       " '__contains__',\n",
       " '__delattr__',\n",
       " '__delitem__',\n",
       " '__dir__',\n",
       " '__doc__',\n",
       " '__eq__',\n",
       " '__format__',\n",
       " '__ge__',\n",
       " '__getattribute__',\n",
       " '__getitem__',\n",
       " '__gt__',\n",
       " '__hash__',\n",
       " '__init__',\n",
       " '__init_subclass__',\n",
       " '__iter__',\n",
       " '__le__',\n",
       " '__len__',\n",
       " '__lt__',\n",
       " '__ne__',\n",
       " '__new__',\n",
       " '__reduce__',\n",
       " '__reduce_ex__',\n",
       " '__repr__',\n",
       " '__reversed__',\n",
       " '__setattr__',\n",
       " '__setitem__',\n",
       " '__sizeof__',\n",
       " '__str__',\n",
       " '__subclasshook__',\n",
       " 'clear',\n",
       " 'copy',\n",
       " 'fromkeys',\n",
       " 'get',\n",
       " 'items',\n",
       " 'keys',\n",
       " 'pop',\n",
       " 'popitem',\n",
       " 'setdefault',\n",
       " 'update',\n",
       " 'values']"
      ]
     },
     "execution_count": 64,
     "metadata": {},
     "output_type": "execute_result"
    }
   ],
   "source": [
    "dir(d)"
   ]
  },
  {
   "cell_type": "code",
   "execution_count": 65,
   "id": "8f847fae",
   "metadata": {},
   "outputs": [
    {
     "data": {
      "text/plain": [
       "{'name': 'smartbridge', 'age': 18, 'qualification': 'smartbridge'}"
      ]
     },
     "execution_count": 65,
     "metadata": {},
     "output_type": "execute_result"
    }
   ],
   "source": [
    "d"
   ]
  },
  {
   "cell_type": "code",
   "execution_count": 66,
   "id": "b107eaa6",
   "metadata": {},
   "outputs": [],
   "source": [
    "d.clear()"
   ]
  },
  {
   "cell_type": "code",
   "execution_count": 67,
   "id": "b42a0c41",
   "metadata": {},
   "outputs": [
    {
     "data": {
      "text/plain": [
       "{}"
      ]
     },
     "execution_count": 67,
     "metadata": {},
     "output_type": "execute_result"
    }
   ],
   "source": [
    "d"
   ]
  },
  {
   "cell_type": "code",
   "execution_count": 89,
   "id": "17c1420e",
   "metadata": {},
   "outputs": [],
   "source": [
    "d = {\"empname\":\"suraj\",\"empsal\":70000,\"experience\":6,\"designation\":\"sranalyst\"}"
   ]
  },
  {
   "cell_type": "code",
   "execution_count": 90,
   "id": "d1262907",
   "metadata": {},
   "outputs": [
    {
     "data": {
      "text/plain": [
       "'suraj'"
      ]
     },
     "execution_count": 90,
     "metadata": {},
     "output_type": "execute_result"
    }
   ],
   "source": [
    "d.get(\"empname\")"
   ]
  },
  {
   "cell_type": "code",
   "execution_count": 91,
   "id": "ced8b0de",
   "metadata": {},
   "outputs": [
    {
     "data": {
      "text/plain": [
       "dict_items([('empname', 'suraj'), ('empsal', 70000), ('experience', 6), ('designation', 'sranalyst')])"
      ]
     },
     "execution_count": 91,
     "metadata": {},
     "output_type": "execute_result"
    }
   ],
   "source": [
    "d.items()"
   ]
  },
  {
   "cell_type": "code",
   "execution_count": 92,
   "id": "de8728e8",
   "metadata": {},
   "outputs": [
    {
     "data": {
      "text/plain": [
       "dict_keys(['empname', 'empsal', 'experience', 'designation'])"
      ]
     },
     "execution_count": 92,
     "metadata": {},
     "output_type": "execute_result"
    }
   ],
   "source": [
    "d.keys()"
   ]
  },
  {
   "cell_type": "code",
   "execution_count": 93,
   "id": "b8653e18",
   "metadata": {},
   "outputs": [
    {
     "data": {
      "text/plain": [
       "'sranalyst'"
      ]
     },
     "execution_count": 93,
     "metadata": {},
     "output_type": "execute_result"
    }
   ],
   "source": [
    "d.pop(\"designation\") #similar to list.remove in list function"
   ]
  },
  {
   "cell_type": "code",
   "execution_count": 94,
   "id": "4ea60f91",
   "metadata": {},
   "outputs": [
    {
     "data": {
      "text/plain": [
       "{'empname': 'suraj', 'empsal': 70000, 'experience': 6}"
      ]
     },
     "execution_count": 94,
     "metadata": {},
     "output_type": "execute_result"
    }
   ],
   "source": [
    "d"
   ]
  },
  {
   "cell_type": "code",
   "execution_count": 95,
   "id": "429fcaed",
   "metadata": {},
   "outputs": [
    {
     "data": {
      "text/plain": [
       "('experience', 6)"
      ]
     },
     "execution_count": 95,
     "metadata": {},
     "output_type": "execute_result"
    }
   ],
   "source": [
    "d.popitem() #similar to list.pop()"
   ]
  },
  {
   "cell_type": "code",
   "execution_count": 96,
   "id": "67a52c6c",
   "metadata": {},
   "outputs": [
    {
     "data": {
      "text/plain": [
       "{'empname': 'suraj', 'empsal': 70000}"
      ]
     },
     "execution_count": 96,
     "metadata": {},
     "output_type": "execute_result"
    }
   ],
   "source": [
    "d"
   ]
  },
  {
   "cell_type": "code",
   "execution_count": 102,
   "id": "094ddbef",
   "metadata": {},
   "outputs": [],
   "source": [
    "d ={\"empname\":\"suraj\",(1,2):[{\"empsal\":70000,\"experience\":6}],\"designation\":\"sranalyst\"}"
   ]
  },
  {
   "cell_type": "code",
   "execution_count": 103,
   "id": "7fd8d114",
   "metadata": {},
   "outputs": [],
   "source": [
    "d[\"age\"] = 27"
   ]
  },
  {
   "cell_type": "code",
   "execution_count": 104,
   "id": "b249c079",
   "metadata": {},
   "outputs": [
    {
     "name": "stdout",
     "output_type": "stream",
     "text": [
      "{'empname': 'suraj', (1, 2): [{'empsal': 70000, 'experience': 6}], 'designation': 'sranalyst', 'age': 27}\n"
     ]
    }
   ],
   "source": [
    "print(d)"
   ]
  },
  {
   "cell_type": "code",
   "execution_count": 105,
   "id": "a356e294",
   "metadata": {},
   "outputs": [],
   "source": [
    "my_set = {1,2,3,4,5} #integers"
   ]
  },
  {
   "cell_type": "code",
   "execution_count": 106,
   "id": "2e284fc5",
   "metadata": {},
   "outputs": [],
   "source": [
    "my_set = {1.0,\"hello\",(1,2,3)} #diffrent datatypes"
   ]
  },
  {
   "cell_type": "code",
   "execution_count": 107,
   "id": "49f08bf8",
   "metadata": {},
   "outputs": [],
   "source": [
    "my_set = {1,3}"
   ]
  },
  {
   "cell_type": "code",
   "execution_count": 108,
   "id": "e7d52f13",
   "metadata": {},
   "outputs": [],
   "source": [
    "my_set.add(2)"
   ]
  },
  {
   "cell_type": "code",
   "execution_count": 109,
   "id": "df38bbea",
   "metadata": {},
   "outputs": [
    {
     "data": {
      "text/plain": [
       "{1, 2, 3}"
      ]
     },
     "execution_count": 109,
     "metadata": {},
     "output_type": "execute_result"
    }
   ],
   "source": [
    "my_set"
   ]
  },
  {
   "cell_type": "code",
   "execution_count": 110,
   "id": "6f0e539e",
   "metadata": {},
   "outputs": [],
   "source": [
    "my_set.update([2,3,4],[6,7,8])"
   ]
  },
  {
   "cell_type": "code",
   "execution_count": 111,
   "id": "97bc6476",
   "metadata": {},
   "outputs": [
    {
     "data": {
      "text/plain": [
       "{1, 2, 3, 4, 6, 7, 8}"
      ]
     },
     "execution_count": 111,
     "metadata": {},
     "output_type": "execute_result"
    }
   ],
   "source": [
    "my_set"
   ]
  },
  {
   "cell_type": "code",
   "execution_count": 113,
   "id": "9527b7e1",
   "metadata": {},
   "outputs": [],
   "source": [
    "my_set.remove(8)"
   ]
  },
  {
   "cell_type": "code",
   "execution_count": 114,
   "id": "62854874",
   "metadata": {},
   "outputs": [
    {
     "data": {
      "text/plain": [
       "{1, 2, 3, 4, 6, 7}"
      ]
     },
     "execution_count": 114,
     "metadata": {},
     "output_type": "execute_result"
    }
   ],
   "source": [
    "my_set"
   ]
  },
  {
   "cell_type": "code",
   "execution_count": 115,
   "id": "2b6614a6",
   "metadata": {},
   "outputs": [],
   "source": [
    "my_set.discard(3)"
   ]
  },
  {
   "cell_type": "code",
   "execution_count": 116,
   "id": "271d4b4a",
   "metadata": {},
   "outputs": [
    {
     "data": {
      "text/plain": [
       "{1, 2, 4, 6, 7}"
      ]
     },
     "execution_count": 116,
     "metadata": {},
     "output_type": "execute_result"
    }
   ],
   "source": [
    "my_set"
   ]
  },
  {
   "cell_type": "code",
   "execution_count": 123,
   "id": "6dbbcc1a",
   "metadata": {},
   "outputs": [],
   "source": [
    "a = {1,2,3,4,5}\n",
    "b = {4,5,6,7,8}\n",
    "c = b.difference(a)"
   ]
  },
  {
   "cell_type": "code",
   "execution_count": 124,
   "id": "80b17496",
   "metadata": {},
   "outputs": [
    {
     "data": {
      "text/plain": [
       "{6, 7, 8}"
      ]
     },
     "execution_count": 124,
     "metadata": {},
     "output_type": "execute_result"
    }
   ],
   "source": [
    "c"
   ]
  },
  {
   "cell_type": "code",
   "execution_count": 132,
   "id": "e99ec333",
   "metadata": {},
   "outputs": [],
   "source": [
    "l = [1,2,[1,[2,[{\"name\":[\"archanaroy\",\"sahithi\",\"ashwini\"]}]]]]"
   ]
  },
  {
   "cell_type": "code",
   "execution_count": 135,
   "id": "49b5ccb0",
   "metadata": {},
   "outputs": [
    {
     "data": {
      "text/plain": [
       "1"
      ]
     },
     "execution_count": 135,
     "metadata": {},
     "output_type": "execute_result"
    }
   ],
   "source": [
    "l[0]"
   ]
  },
  {
   "cell_type": "code",
   "execution_count": 136,
   "id": "1b432773",
   "metadata": {},
   "outputs": [
    {
     "data": {
      "text/plain": [
       "2"
      ]
     },
     "execution_count": 136,
     "metadata": {},
     "output_type": "execute_result"
    }
   ],
   "source": [
    "l[1]"
   ]
  },
  {
   "cell_type": "code",
   "execution_count": 138,
   "id": "8699e15b",
   "metadata": {},
   "outputs": [
    {
     "data": {
      "text/plain": [
       "[1, [2, [{'name': ['archanaroy', 'sahithi', 'ashwini']}]]]"
      ]
     },
     "execution_count": 138,
     "metadata": {},
     "output_type": "execute_result"
    }
   ],
   "source": [
    "l[2]"
   ]
  },
  {
   "cell_type": "code",
   "execution_count": 139,
   "id": "859d4337",
   "metadata": {},
   "outputs": [
    {
     "data": {
      "text/plain": [
       "1"
      ]
     },
     "execution_count": 139,
     "metadata": {},
     "output_type": "execute_result"
    }
   ],
   "source": [
    "l[2][0]"
   ]
  },
  {
   "cell_type": "code",
   "execution_count": 141,
   "id": "2f930be1",
   "metadata": {},
   "outputs": [
    {
     "data": {
      "text/plain": [
       "[2, [{'name': ['archanaroy', 'sahithi', 'ashwini']}]]"
      ]
     },
     "execution_count": 141,
     "metadata": {},
     "output_type": "execute_result"
    }
   ],
   "source": [
    "l[2][1]"
   ]
  },
  {
   "cell_type": "code",
   "execution_count": 142,
   "id": "1247d9e0",
   "metadata": {},
   "outputs": [
    {
     "data": {
      "text/plain": [
       "2"
      ]
     },
     "execution_count": 142,
     "metadata": {},
     "output_type": "execute_result"
    }
   ],
   "source": [
    "l[2][1][0]"
   ]
  },
  {
   "cell_type": "code",
   "execution_count": 143,
   "id": "48a1c76f",
   "metadata": {},
   "outputs": [
    {
     "data": {
      "text/plain": [
       "[{'name': ['archanaroy', 'sahithi', 'ashwini']}]"
      ]
     },
     "execution_count": 143,
     "metadata": {},
     "output_type": "execute_result"
    }
   ],
   "source": [
    "l[2][1][1]"
   ]
  },
  {
   "cell_type": "code",
   "execution_count": 144,
   "id": "479ee024",
   "metadata": {},
   "outputs": [
    {
     "data": {
      "text/plain": [
       "{'name': ['archanaroy', 'sahithi', 'ashwini']}"
      ]
     },
     "execution_count": 144,
     "metadata": {},
     "output_type": "execute_result"
    }
   ],
   "source": [
    "l[2][1][1][0]"
   ]
  },
  {
   "cell_type": "code",
   "execution_count": 145,
   "id": "67aa8c95",
   "metadata": {},
   "outputs": [
    {
     "data": {
      "text/plain": [
       "['archanaroy', 'sahithi', 'ashwini']"
      ]
     },
     "execution_count": 145,
     "metadata": {},
     "output_type": "execute_result"
    }
   ],
   "source": [
    "l[2][1][1][0][\"name\"]"
   ]
  },
  {
   "cell_type": "code",
   "execution_count": 147,
   "id": "e313648b",
   "metadata": {},
   "outputs": [
    {
     "data": {
      "text/plain": [
       "'archanaroy'"
      ]
     },
     "execution_count": 147,
     "metadata": {},
     "output_type": "execute_result"
    }
   ],
   "source": [
    "l[2][1][1][0][\"name\"][0]"
   ]
  },
  {
   "cell_type": "code",
   "execution_count": 148,
   "id": "124c4f96",
   "metadata": {},
   "outputs": [
    {
     "data": {
      "text/plain": [
       "'sahithi'"
      ]
     },
     "execution_count": 148,
     "metadata": {},
     "output_type": "execute_result"
    }
   ],
   "source": [
    "l[2][1][1][0][\"name\"][1]"
   ]
  },
  {
   "cell_type": "code",
   "execution_count": 149,
   "id": "e8f62340",
   "metadata": {},
   "outputs": [
    {
     "data": {
      "text/plain": [
       "'ashwini'"
      ]
     },
     "execution_count": 149,
     "metadata": {},
     "output_type": "execute_result"
    }
   ],
   "source": [
    "l[2][1][1][0][\"name\"][2]"
   ]
  },
  {
   "cell_type": "code",
   "execution_count": 153,
   "id": "a07d3aea",
   "metadata": {},
   "outputs": [],
   "source": [
    "l = [1,2,[4,5,[{\"a\":[1,2,3]}]]]"
   ]
  },
  {
   "cell_type": "code",
   "execution_count": 154,
   "id": "2599d1b2",
   "metadata": {},
   "outputs": [
    {
     "data": {
      "text/plain": [
       "[4, 5, [{'a': [1, 2, 3]}]]"
      ]
     },
     "execution_count": 154,
     "metadata": {},
     "output_type": "execute_result"
    }
   ],
   "source": [
    "l[2]"
   ]
  },
  {
   "cell_type": "code",
   "execution_count": 155,
   "id": "1e4c6c23",
   "metadata": {},
   "outputs": [
    {
     "data": {
      "text/plain": [
       "[{'a': [1, 2, 3]}]"
      ]
     },
     "execution_count": 155,
     "metadata": {},
     "output_type": "execute_result"
    }
   ],
   "source": [
    "l[2][2]"
   ]
  },
  {
   "cell_type": "code",
   "execution_count": 156,
   "id": "b76c75ad",
   "metadata": {},
   "outputs": [
    {
     "data": {
      "text/plain": [
       "[1, 2, 3]"
      ]
     },
     "execution_count": 156,
     "metadata": {},
     "output_type": "execute_result"
    }
   ],
   "source": [
    "l[2][2][0][\"a\"]"
   ]
  },
  {
   "cell_type": "code",
   "execution_count": 157,
   "id": "90212fa0",
   "metadata": {},
   "outputs": [
    {
     "data": {
      "text/plain": [
       "1"
      ]
     },
     "execution_count": 157,
     "metadata": {},
     "output_type": "execute_result"
    }
   ],
   "source": [
    "l[2][2][0][\"a\"][0]"
   ]
  },
  {
   "cell_type": "code",
   "execution_count": 158,
   "id": "3318efea",
   "metadata": {},
   "outputs": [
    {
     "data": {
      "text/plain": [
       "2"
      ]
     },
     "execution_count": 158,
     "metadata": {},
     "output_type": "execute_result"
    }
   ],
   "source": [
    "l[2][2][0][\"a\"][1]"
   ]
  },
  {
   "cell_type": "code",
   "execution_count": 159,
   "id": "bd9701bc",
   "metadata": {},
   "outputs": [
    {
     "data": {
      "text/plain": [
       "3"
      ]
     },
     "execution_count": 159,
     "metadata": {},
     "output_type": "execute_result"
    }
   ],
   "source": [
    "l[2][2][0][\"a\"][2]"
   ]
  },
  {
   "cell_type": "markdown",
   "id": "66fdafd6",
   "metadata": {},
   "source": [
    "# ConditionalStatements"
   ]
  },
  {
   "cell_type": "code",
   "execution_count": 15,
   "id": "64eed78f",
   "metadata": {},
   "outputs": [
    {
     "name": "stdout",
     "output_type": "stream",
     "text": [
      "enter a number15\n",
      "enter b20\n",
      "35\n",
      "border pass\n"
     ]
    }
   ],
   "source": [
    "a = int(input(\"enter a number\")) #string\n",
    "b = int(input(\"enter b\")) #string\n",
    "\n",
    "c = a+b\n",
    "print(c)\n",
    "if(c >75):\n",
    "    print(\"passed\")\n",
    "elif (c==35):\n",
    "    print(\"border pass\")\n",
    "else:\n",
    "    print(\"failed\")"
   ]
  },
  {
   "cell_type": "code",
   "execution_count": 16,
   "id": "b168cb2d",
   "metadata": {},
   "outputs": [
    {
     "name": "stdout",
     "output_type": "stream",
     "text": [
      "enter a number10\n",
      "possitive\n"
     ]
    }
   ],
   "source": [
    "num = float(input(\"enter a number\"))\n",
    "if num>=0:\n",
    "    if num == 0:\n",
    "        print(\"it is zero\")\n",
    "    else:\n",
    "        print(\"possitive\")\n",
    "else:\n",
    "    print(\"it is the negative number\")\n",
    "    "
   ]
  },
  {
   "cell_type": "code",
   "execution_count": null,
   "id": "a06fdc92",
   "metadata": {},
   "outputs": [],
   "source": [
    "type(c)"
   ]
  },
  {
   "cell_type": "markdown",
   "id": "6b1fa5c7",
   "metadata": {},
   "source": [
    "take 3 user inputs a , b operator (+,-,*,/,%)\n",
    "if operator +\n",
    "add an d b\n",
    "elif operator is -\n",
    "sub a nad b\n"
   ]
  },
  {
   "cell_type": "markdown",
   "id": "8114e6df",
   "metadata": {},
   "source": [
    "# Loops"
   ]
  },
  {
   "cell_type": "code",
   "execution_count": null,
   "id": "8519fc67",
   "metadata": {},
   "outputs": [],
   "source": [
    "for variable in range/anysquence:\n",
    "    body of forllop - statements"
   ]
  },
  {
   "cell_type": "code",
   "execution_count": null,
   "id": "656e67e6",
   "metadata": {},
   "outputs": [],
   "source": [
    "# print all the elemments from 1 to 10 using for loop"
   ]
  },
  {
   "cell_type": "code",
   "execution_count": 21,
   "id": "e0fc9acf",
   "metadata": {},
   "outputs": [
    {
     "name": "stdout",
     "output_type": "stream",
     "text": [
      "2\n",
      "4\n",
      "6\n",
      "8\n",
      "10\n"
     ]
    }
   ],
   "source": [
    "for i in range(1,11): #i = 1+1\n",
    "    if(i%2  ==0):\n",
    "        print(i)"
   ]
  },
  {
   "cell_type": "code",
   "execution_count": 26,
   "id": "38316364",
   "metadata": {},
   "outputs": [
    {
     "name": "stdout",
     "output_type": "stream",
     "text": [
      "2\n"
     ]
    }
   ],
   "source": [
    "string = \"hie how are you\"\n",
    "count = 0\n",
    "for i in string:\n",
    "    if (i == \"e\"):\n",
    "        count = count+ 1\n",
    "print(count)"
   ]
  },
  {
   "cell_type": "code",
   "execution_count": 28,
   "id": "37ce5329",
   "metadata": {},
   "outputs": [
    {
     "name": "stdout",
     "output_type": "stream",
     "text": [
      "h\n",
      "i\n",
      "e\n",
      " \n",
      "h\n",
      "o\n",
      "w\n",
      " \n",
      "a\n",
      "r\n",
      "e\n",
      " \n",
      "y\n",
      "o\n",
      "u\n"
     ]
    }
   ],
   "source": [
    "for i  in range(len(string)):\n",
    "    print(string[i])\n",
    "    "
   ]
  },
  {
   "cell_type": "code",
   "execution_count": null,
   "id": "5e944daf",
   "metadata": {},
   "outputs": [],
   "source": [
    "20 , 21,22,23,24,25,26,27,28,29,"
   ]
  },
  {
   "cell_type": "code",
   "execution_count": 29,
   "id": "3112f837",
   "metadata": {},
   "outputs": [
    {
     "name": "stdout",
     "output_type": "stream",
     "text": [
      "1\n",
      "2\n",
      "3\n",
      "4\n",
      "5\n",
      "6\n",
      "7\n"
     ]
    }
   ],
   "source": [
    "list = [1,2,3,4,5,6,7]\n",
    "for i in list:\n",
    "    print(i)"
   ]
  },
  {
   "cell_type": "markdown",
   "id": "a47779c4",
   "metadata": {},
   "source": [
    "i = 0\n",
    "while(condition){\n",
    "    statements\n",
    "    i++\n",
    "}"
   ]
  },
  {
   "cell_type": "code",
   "execution_count": 40,
   "id": "81d689b9",
   "metadata": {},
   "outputs": [
    {
     "name": "stdout",
     "output_type": "stream",
     "text": [
      "0\n",
      "1\n",
      "2\n",
      "3\n",
      "4\n",
      "5\n",
      "6\n",
      "7\n",
      "8\n",
      "9\n"
     ]
    }
   ],
   "source": [
    "i = 0\n",
    "while i < 10:\n",
    "    print(i)\n",
    "    i = i+1"
   ]
  },
  {
   "cell_type": "markdown",
   "id": "db572c98",
   "metadata": {},
   "source": [
    "break , continue , pass\n",
    "\n",
    "break - stop the lopp in the middle based on the condition\n",
    "continue - skip some interactions\n",
    "pass - just doesnt do anything"
   ]
  },
  {
   "cell_type": "markdown",
   "id": "b033f33e",
   "metadata": {},
   "source": [
    "total 40\n",
    "students - 40\n",
    "empty seats are 20\n",
    "senors - count the person\n",
    "you have to close the door of seminar hall once the count reaches 20"
   ]
  },
  {
   "cell_type": "code",
   "execution_count": 46,
   "id": "ea690f26",
   "metadata": {},
   "outputs": [
    {
     "name": "stdout",
     "output_type": "stream",
     "text": [
      "student no 1\n",
      "student no 2\n",
      "student no 3\n",
      "student no 4\n",
      "student no 5\n",
      "student no 6\n",
      "student no 7\n",
      "student no 8\n",
      "student no 9\n",
      "student no 10\n",
      "student no 11\n",
      "student no 12\n",
      "student no 13\n",
      "student no 14\n",
      "student no 15\n",
      "student no 16\n",
      "student no 17\n",
      "student no 18\n",
      "student no 19\n",
      "student no 20\n",
      "only 20 members allowed\n"
     ]
    }
   ],
   "source": [
    "for i in range(1,41):\n",
    "    print(\"student no\" , i)\n",
    "    if(i == 20):\n",
    "        break\n",
    "print(\"only 20 members allowed\")"
   ]
  },
  {
   "cell_type": "code",
   "execution_count": 47,
   "id": "703f8a7f",
   "metadata": {},
   "outputs": [
    {
     "name": "stdout",
     "output_type": "stream",
     "text": [
      "1\n",
      "3\n",
      "5\n",
      "7\n",
      "9\n",
      "11\n",
      "13\n",
      "15\n",
      "17\n",
      "19\n",
      "21\n",
      "23\n",
      "25\n",
      "27\n",
      "29\n",
      "31\n",
      "33\n",
      "35\n",
      "37\n",
      "39\n"
     ]
    }
   ],
   "source": [
    "for i in range(1,41):\n",
    "    \n",
    "    if( i%2 ==0):\n",
    "        continue\n",
    "    print(i)"
   ]
  },
  {
   "cell_type": "code",
   "execution_count": 48,
   "id": "fb037c7d",
   "metadata": {},
   "outputs": [
    {
     "name": "stdout",
     "output_type": "stream",
     "text": [
      "enter student namepradeepthi\n",
      "enter student marks35\n",
      "details are entered in the database\n"
     ]
    }
   ],
   "source": [
    "studentname = input(\"enter student name\")\n",
    "studentmarks = input(\"enter student marks\")\n",
    "print(\"details are entered in the database\")"
   ]
  },
  {
   "cell_type": "code",
   "execution_count": 49,
   "id": "d0a1f2f8",
   "metadata": {},
   "outputs": [
    {
     "name": "stdout",
     "output_type": "stream",
     "text": [
      "enter student namearchana\n",
      "enter student marks90\n",
      "details are entered in the database\n"
     ]
    }
   ],
   "source": [
    "studentname = input(\"enter student name\")\n",
    "studentmarks = input(\"enter student marks\")\n",
    "print(\"details are entered in the database\")"
   ]
  },
  {
   "cell_type": "code",
   "execution_count": 50,
   "id": "4d3a5ea5",
   "metadata": {},
   "outputs": [],
   "source": [
    "def enterdetails():\n",
    "    studentname = input(\"enter student name\")\n",
    "    studentmarks = input(\"enter student marks\")\n",
    "    print(\"details are entered in the database\")\n",
    "    "
   ]
  },
  {
   "cell_type": "code",
   "execution_count": 51,
   "id": "99bef1ea",
   "metadata": {},
   "outputs": [
    {
     "name": "stdout",
     "output_type": "stream",
     "text": [
      "enter student namepradeethi\n",
      "enter student marks45\n",
      "details are entered in the database\n",
      "enter student namearchana\n",
      "enter student marks88\n",
      "details are entered in the database\n",
      "enter student namevenkatesh\n",
      "enter student marks90\n",
      "details are entered in the database\n",
      "enter student nameshivam\n",
      "enter student marks60\n",
      "details are entered in the database\n",
      "enter student namekeerthana\n",
      "enter student marks90\n",
      "details are entered in the database\n"
     ]
    }
   ],
   "source": [
    "for i in range(1,6):\n",
    "    enterdetails()\n",
    "    "
   ]
  },
  {
   "cell_type": "markdown",
   "id": "37c250de",
   "metadata": {},
   "source": [
    "def functionname():# emoty parenthesis or with some arguments\n",
    "    block statements"
   ]
  },
  {
   "cell_type": "code",
   "execution_count": 52,
   "id": "d955248b",
   "metadata": {},
   "outputs": [],
   "source": [
    "def functionname():\n",
    "    print(\"hie this is my first function\")"
   ]
  },
  {
   "cell_type": "code",
   "execution_count": null,
   "id": "b6682b09",
   "metadata": {},
   "outputs": [],
   "source": [
    "firstfunction()"
   ]
  },
  {
   "cell_type": "markdown",
   "id": "e3a2a4eb",
   "metadata": {},
   "source": [
    "hie this is my first function"
   ]
  },
  {
   "cell_type": "code",
   "execution_count": 1,
   "id": "20e1d523",
   "metadata": {},
   "outputs": [],
   "source": [
    "def func(a,b):\n",
    "    c = a+b\n",
    "    print(c)"
   ]
  },
  {
   "cell_type": "code",
   "execution_count": null,
   "id": "b680d234",
   "metadata": {},
   "outputs": [],
   "source": []
  }
 ],
 "metadata": {
  "kernelspec": {
   "display_name": "Python 3",
   "language": "python",
   "name": "python3"
  },
  "language_info": {
   "codemirror_mode": {
    "name": "ipython",
    "version": 3
   },
   "file_extension": ".py",
   "mimetype": "text/x-python",
   "name": "python",
   "nbconvert_exporter": "python",
   "pygments_lexer": "ipython3",
   "version": "3.8.8"
  }
 },
 "nbformat": 4,
 "nbformat_minor": 5
}
